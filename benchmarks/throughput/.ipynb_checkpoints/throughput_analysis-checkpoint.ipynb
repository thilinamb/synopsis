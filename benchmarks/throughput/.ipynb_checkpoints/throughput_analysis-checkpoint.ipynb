{
 "cells": [
  {
   "cell_type": "code",
   "execution_count": 27,
   "metadata": {
    "collapsed": true
   },
   "outputs": [],
   "source": [
    "import numpy as np\n",
    "from numpy import genfromtxt\n",
    "import matplotlib.pyplot as plt\n",
    "import pylab\n",
    "%matplotlib inline"
   ]
  },
  {
   "cell_type": "code",
   "execution_count": 22,
   "metadata": {
    "collapsed": false
   },
   "outputs": [
    {
     "name": "stdout",
     "output_type": "stream",
     "text": [
      "[15124.561913043481, 14067.451531250001, 11319.321147058821, 5223.2803076923074]\n"
     ]
    }
   ],
   "source": [
    "t_vals = []\n",
    "std_err = []\n",
    "for i in ('ing-1', 'ing-2', 'ing-4', 'ing-10'):\n",
    "    f_name = 'single/' + i\n",
    "    data = genfromtxt(f_name, delimiter=',')\n",
    "    t_vals.append(np.mean(data[:,1]))\n",
    "    std_err.append(np.std(data[:,1]))\n",
    "print(t_vals)"
   ]
  },
  {
   "cell_type": "code",
   "execution_count": 25,
   "metadata": {
    "collapsed": false
   },
   "outputs": [],
   "source": [
    "fig,ax = plt.subplots(figsize=(8,4))\n",
    "plt.plot((1,2,4,10), t_vals, marker='o', color='dodgerblue')\n",
    "pylab.xlabel('Ingester Count', fontsize=12)\n",
    "pylab.ylabel('Throughput', fontsize=12)\n",
    "#plt.savefig('single_sketchlet.pdf', dpi=300)\n",
    "#plt.close()"
   ]
  },
  {
   "cell_type": "code",
   "execution_count": 31,
   "metadata": {
    "collapsed": false
   },
   "outputs": [],
   "source": [
    "l_vals = []\n",
    "l_std_err = []\n",
    "for i in ('lat-1', 'lat-4', 'lat-10'):\n",
    "    f_name = 'single/' + i\n",
    "    data = genfromtxt(f_name, delimiter=',')\n",
    "    l_vals.append(np.mean(data[:]))\n",
    "    l_std_err.append(np.std(data[:]))\n",
    "\n",
    "fig,ax = plt.subplots(figsize=(8,4))\n",
    "plt.plot((1,4,10), l_vals, marker='o', color='dodgerblue')\n",
    "pylab.xlabel('Ingester Count', fontsize=12)\n",
    "pylab.ylabel('Latency(nano seconds)', fontsize=12)\n",
    "plt.savefig('single_sketchlet_latency.pdf', dpi=300)\n",
    "plt.close()"
   ]
  },
  {
   "cell_type": "code",
   "execution_count": 39,
   "metadata": {
    "collapsed": false
   },
   "outputs": [
    {
     "name": "stdout",
     "output_type": "stream",
     "text": [
      "[44082.475824074078, 44060.888867724861, 40568.996471172963, 38369.745315589353]\n",
      "[5984.5031675903483, 6206.2079346787941, 14920.253181927792, 14008.307775281077]\n"
     ]
    }
   ],
   "source": [
    "# cluster analysis\n",
    "cluster_t_m = []\n",
    "cluster_t_std = []\n",
    "for i in ('ing-1', 'ing-2', 'ing-4', 'ing-10'):\n",
    "    f_name = 'cluster/' + i + '.stat'\n",
    "    data = genfromtxt(f_name, delimiter=',')\n",
    "    cluster_t_m.append(np.mean(data[:,1]))\n",
    "    cluster_t_std.append(np.std(data[:,1]))\n",
    "print(cluster_t_m)\n",
    "print(cluster_t_std)"
   ]
  },
  {
   "cell_type": "code",
   "execution_count": 42,
   "metadata": {
    "collapsed": false
   },
   "outputs": [
    {
     "data": {
      "image/png": "[encoded data removed]",
      "text/plain": [
       "<matplotlib.figure.Figure at 0x10f651f28>"
      ]
     },
     "metadata": {},
     "output_type": "display_data"
    }
   ],
   "source": [
    "ind = np.arange(1,5)\n",
    "width = 0.3\n",
    "\n",
    "fig2 = plt.figure(figsize=(8, 4))\n",
    "ax2 = plt.subplot(2,1,1)\n",
    "leg_with = plt.bar(ind - 1 *width, cluster_t_m, width, yerr=cluster_t_std, color='blue', linewidth=0.1, ecolor='dimgrey')\n",
    "leg_without = plt.bar(ind, t_vals, width, yerr=std_err, color='green', linewidth=0.1, ecolor='dimgrey')\n",
    "plt.xticks([1,2,4,8])\n",
    "# add some text for labels, title and axes ticks\n",
    "pylab.ylabel('Throughput (observations/s)', fontsize=10)\n",
    "pylab.xlabel('Cluster Nodes', fontsize=10)\n",
    "plt.tick_params(axis='both', which='major', labelsize=9)\n",
    "plt.tick_params(axis='both', which='minor', labelsize=8)\n"
   ]
  },
  {
   "cell_type": "code",
   "execution_count": null,
   "metadata": {
    "collapsed": true
   },
   "outputs": [],
   "source": []
  }
 ],
 "metadata": {
  "anaconda-cloud": {},
  "kernelspec": {
   "display_name": "Python [default]",
   "language": "python",
   "name": "python3"
  },
  "language_info": {
   "codemirror_mode": {
    "name": "ipython",
    "version": 3
   },
   "file_extension": ".py",
   "mimetype": "text/x-python",
   "name": "python",
   "nbconvert_exporter": "python",
   "pygments_lexer": "ipython3",
   "version": "3.5.2"
  }
 },
 "nbformat": 4,
 "nbformat_minor": 1
}
