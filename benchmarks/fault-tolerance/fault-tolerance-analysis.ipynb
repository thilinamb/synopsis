{
 "cells": [
  {
   "cell_type": "code",
   "execution_count": 2,
   "metadata": {
    "collapsed": true
   },
   "outputs": [],
   "source": [
    "import numpy as np\n",
    "from numpy import genfromtxt"
   ]
  },
  {
   "cell_type": "code",
   "execution_count": 28,
   "metadata": {
    "collapsed": false
   },
   "outputs": [
    {
     "name": "stdout",
     "output_type": "stream",
     "text": [
      "(43, 4)\n"
     ]
    }
   ],
   "source": [
    "loading_time_raw = genfromtxt('state_loading_times_complete.csv', delimiter=',')\n",
    "loading_time = loading_time_raw[np.where(loading_time_raw[:,2] > 0),:][0,:,:]\n",
    "print(loading_time.shape)\n",
    "notification_time = genfromtxt('notification_time.csv', delimiter=',')"
   ]
  },
  {
   "cell_type": "code",
   "execution_count": 33,
   "metadata": {
    "collapsed": false
   },
   "outputs": [
    {
     "name": "stdout",
     "output_type": "stream",
     "text": [
      "------------ Loading times -----------\n",
      "Mean:  16602.255814\n",
      "Std:  23214.7941935\n",
      "5th:  1624.5\n",
      "95th:  70876.6\n"
     ]
    }
   ],
   "source": [
    "print('------------ Loading times -----------')\n",
    "print(\"Mean: \", np.mean(loading_time[:,0]))\n",
    "print(\"Std: \", np.std(loading_time[:,0]))\n",
    "print(\"5th: \", np.percentile(loading_time[:,0], 5))\n",
    "print(\"95th: \", np.percentile(loading_time[:,0], 95))"
   ]
  },
  {
   "cell_type": "code",
   "execution_count": 35,
   "metadata": {
    "collapsed": false
   },
   "outputs": [
    {
     "name": "stdout",
     "output_type": "stream",
     "text": [
      "------------ Notification times -----------\n",
      "Mean:  5500.06722689\n",
      "Std:  910.773027755\n",
      "5th:  3999.0\n",
      "95th:  6000.0\n"
     ]
    }
   ],
   "source": [
    "print('------------ Notification times -----------')\n",
    "print(\"Mean: \", np.mean(notification_time[:]))\n",
    "print(\"Std: \", np.std(notification_time[:]))\n",
    "print(\"5th: \", np.percentile(notification_time[:], 5))\n",
    "print(\"95th: \", np.percentile(notification_time[:], 95))"
   ]
  },
  {
   "cell_type": "code",
   "execution_count": 43,
   "metadata": {
    "collapsed": false
   },
   "outputs": [
    {
     "name": "stdout",
     "output_type": "stream",
     "text": [
      "(1, 6725)\n"
     ]
    }
   ],
   "source": [
    "throughput_all  = genfromtxt('cumul-throughput.stat', delimiter=',')\n",
    "throughput = throughput_all[np.where(throughput_all[:,1] >= 20000),1]\n",
    "\n",
    "transformed = 10000/throughput\n"
   ]
  },
  {
   "cell_type": "code",
   "execution_count": 44,
   "metadata": {
    "collapsed": false
   },
   "outputs": [
    {
     "name": "stdout",
     "output_type": "stream",
     "text": [
      "------------ throughput times -----------\n",
      "Mean:  0.447121858605\n",
      "Std:  0.0360590172632\n",
      "5th:  0.354097057447\n",
      "95th:  0.483935165176\n"
     ]
    }
   ],
   "source": [
    "print('------------ throughput times -----------')\n",
    "print(\"Mean: \", np.mean(transformed[:]))\n",
    "print(\"Std: \", np.std(transformed[:]))\n",
    "print(\"5th: \", np.percentile(transformed[:], 5))\n",
    "print(\"95th: \", np.percentile(transformed[:], 95))"
   ]
  },
  {
   "cell_type": "code",
   "execution_count": null,
   "metadata": {
    "collapsed": true
   },
   "outputs": [],
   "source": []
  }
 ],
 "metadata": {
  "anaconda-cloud": {},
  "kernelspec": {
   "display_name": "Python [conda root]",
   "language": "python",
   "name": "conda-root-py"
  },
  "language_info": {
   "codemirror_mode": {
    "name": "ipython",
    "version": 3
   },
   "file_extension": ".py",
   "mimetype": "text/x-python",
   "name": "python",
   "nbconvert_exporter": "python",
   "pygments_lexer": "ipython3",
   "version": "3.5.2"
  }
 },
 "nbformat": 4,
 "nbformat_minor": 1
}
