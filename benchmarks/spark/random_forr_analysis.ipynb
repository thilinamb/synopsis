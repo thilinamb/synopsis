{
 "cells": [
  {
   "cell_type": "code",
   "execution_count": 15,
   "metadata": {
    "collapsed": true
   },
   "outputs": [],
   "source": [
    "import numpy as np\n",
    "import pylab\n",
    "from pylab import *\n",
    "from numpy import genfromtxt"
   ]
  },
  {
   "cell_type": "code",
   "execution_count": 16,
   "metadata": {
    "collapsed": true
   },
   "outputs": [],
   "source": [
    "def remove_outliers(arr):\n",
    "    mean = np.mean(arr)\n",
    "    sd = np.std(arr)\n",
    "    final_list = [x for x in arr if (x > mean - 2 * sd)]\n",
    "    final_list = [x for x in final_list if (x < mean + 2 * sd)]\n",
    "    return final_list"
   ]
  },
  {
   "cell_type": "code",
   "execution_count": 17,
   "metadata": {
    "collapsed": false
   },
   "outputs": [
    {
     "name": "stdout",
     "output_type": "stream",
     "text": [
      "[[ 477.51829243  227.7822504   265.00396299  234.54077291  269.97387385\n",
      "   468.32062411    5.96609338    5.99745429    5.96386962    5.96070036\n",
      "     5.98804848    6.13689317]\n",
      " [ 465.07794952  228.26183534  266.22399831  250.67191696  293.67450953\n",
      "   399.69707012    5.95505045    5.99237675    5.98101684    5.98768182\n",
      "     6.01067203    6.122859  ]\n",
      " [ 478.07273197  233.70697308  270.80180883  220.27011585  273.65359449\n",
      "   415.27860379    5.92929592    5.92831833    5.95248303    5.9523886\n",
      "     5.97967643    6.1819509 ]\n",
      " [ 459.99060917  247.58802319  257.40960789  273.93967891  291.85470533\n",
      "   384.12366509    6.06367599    6.03254263    6.0459694     5.96614559\n",
      "     5.96526047    6.31396627]\n",
      " [ 509.21540308  207.48568821  241.54969931  226.78644514  292.79042983\n",
      "   435.33281279    5.95882179    5.98129289    5.95813382    5.95017259\n",
      "     5.97591477    6.29915866]\n",
      " [ 470.76697063  212.54477191  255.58304191  247.62847543  252.01906395\n",
      "   457.56306481    5.95639162    6.02605624    5.92791449    6.07027867\n",
      "     5.97388854    6.16770948]\n",
      " [ 457.60785532  214.68503428  255.66259265  275.22449279  278.81949401\n",
      "   420.34978366    5.95661758    6.17871398    6.05758073    5.95960638\n",
      "     6.02690125    6.1207814 ]]\n"
     ]
    }
   ],
   "source": [
    "f1 = 'spark-random-forr-1495893290.4898455.csv'\n",
    "f2 = 'spark-random-forr-1495871041.8540606.csv'\n",
    "f3 = 'spark-random-forr-1496183342.8873482.csv'\n",
    "f4 = 'spark-random-forr-1499546633.928265.csv'\n",
    "#d_1 = genfromtxt(f1, delimiter=',')\n",
    "#d_2 = genfromtxt(f2, delimiter=',')\n",
    "#data = np.vstack((d_2, d_1))\n",
    "data = genfromtxt(f4, delimiter=',')\n",
    "print(data)"
   ]
  },
  {
   "cell_type": "code",
   "execution_count": 18,
   "metadata": {
    "collapsed": false
   },
   "outputs": [
    {
     "name": "stdout",
     "output_type": "stream",
     "text": [
      "training times\n",
      "------------------------\n",
      "Full:  474.035687447 16.1426769266\n",
      "10%:  224.5792252 12.9364029048\n",
      "20%:  258.890673126 8.92259555597\n",
      "Synthetic - 10%:  247.00884257 20.0519060268\n",
      "Synthetic - 20%:  278.969381571 14.1865759945\n",
      "Synthetic - 100%:  425.809374911 27.9449820219\n"
     ]
    }
   ],
   "source": [
    "print('training times')\n",
    "print('------------------------')\n",
    "print('Full: ', np.mean(data[:,0]), np.std(data[:,0]))\n",
    "print('10%: ', np.mean(data[:,1]), np.std(data[:,1]))\n",
    "print('20%: ', np.mean(data[:,2]), np.std(data[:,2]))\n",
    "print('Synthetic - 10%: ', np.mean(data[:,3]), np.std(data[:,3]))\n",
    "print('Synthetic - 20%: ', np.mean(data[:,4]), np.std(data[:,4]))\n",
    "print('Synthetic - 100%: ', np.mean(data[:,5]), np.std(data[:,5]))"
   ]
  },
  {
   "cell_type": "code",
   "execution_count": 19,
   "metadata": {
    "collapsed": false
   },
   "outputs": [
    {
     "name": "stdout",
     "output_type": "stream",
     "text": [
      "RMSE\n",
      "------------------------\n",
      "Full:  5.9537117894 0.01149614334\n",
      "10%:  5.99300685653 0.0341500085429\n",
      "20%:  5.98385256271 0.0454756967057\n",
      "Synthetic - 10%:  5.96278255759 0.0123339125392\n",
      "Synthetic - 20%:  5.98862313875 0.0205501693108\n",
      "Synthetic - 100%:  6.19190269801 0.0755352567352\n"
     ]
    }
   ],
   "source": [
    "print('RMSE')\n",
    "print('------------------------')\n",
    "print('Full: ', np.mean(remove_outliers(data[:,6])), np.std(remove_outliers(data[:,6])))\n",
    "print('10%: ', np.mean(remove_outliers(data[:,7])), np.std(remove_outliers(data[:,7])))\n",
    "print('20%: ', np.mean(remove_outliers(data[:,8])), np.std(remove_outliers(data[:,8])))\n",
    "print('Synthetic - 10%: ', np.mean(remove_outliers(data[:,9])), np.std(remove_outliers(data[:,9])))\n",
    "print('Synthetic - 20%: ', np.mean(remove_outliers(data[:,10])), np.std(remove_outliers(data[:,10])))\n",
    "print('Synthetic - 100%: ', np.mean(remove_outliers(data[:,11])), np.std(remove_outliers(data[:,11])))"
   ]
  },
  {
   "cell_type": "code",
   "execution_count": 21,
   "metadata": {
    "collapsed": false
   },
   "outputs": [
    {
     "name": "stdout",
     "output_type": "stream",
     "text": [
      "LOAD TIMES\n",
      "------------------------------\n",
      "Full:  43.4716555119 3.70137570718\n",
      "10%:  4.67950057983 1.61987494692\n",
      "20%:  7.98250476519 3.15969599758\n",
      "Synthetic - 10%:  4.66133642197 1.4312713394\n",
      "Synthetic - 20%:  8.06866745154 2.80871721646\n",
      "Synthetic - 100%:  39.804238836 4.84922910086\n"
     ]
    }
   ],
   "source": [
    "load_times = np.load('load_times_jul_9.npy')\n",
    "print('LOAD TIMES')\n",
    "print('------------------------------')\n",
    "print('Full: ', np.mean(remove_outliers(load_times[:,0])), np.std(remove_outliers(load_times[:,0])))\n",
    "print('10%: ', np.mean(remove_outliers(load_times[:,1])), np.std(remove_outliers(load_times[:,1])))\n",
    "print('20%: ', np.mean(remove_outliers(load_times[:,2])), np.std(remove_outliers(load_times[:,2])))\n",
    "print('Synthetic - 10%: ', np.mean(remove_outliers(load_times[:,3])), np.std(remove_outliers(load_times[:,3])))\n",
    "print('Synthetic - 20%: ', np.mean(remove_outliers(load_times[:,4])), np.std(remove_outliers(load_times[:,4])))\n",
    "print('Synthetic - 100%: ', np.mean(remove_outliers(load_times[:,5])), np.std(remove_outliers(load_times[:,5])))"
   ]
  },
  {
   "cell_type": "code",
   "execution_count": null,
   "metadata": {
    "collapsed": true
   },
   "outputs": [],
   "source": []
  }
 ],
 "metadata": {
  "anaconda-cloud": {},
  "kernelspec": {
   "display_name": "Python [conda root]",
   "language": "python",
   "name": "conda-root-py"
  },
  "language_info": {
   "codemirror_mode": {
    "name": "ipython",
    "version": 3
   },
   "file_extension": ".py",
   "mimetype": "text/x-python",
   "name": "python",
   "nbconvert_exporter": "python",
   "pygments_lexer": "ipython3",
   "version": "3.5.2"
  }
 },
 "nbformat": 4,
 "nbformat_minor": 1
}
