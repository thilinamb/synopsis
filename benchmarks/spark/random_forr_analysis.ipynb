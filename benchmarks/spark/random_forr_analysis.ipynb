{
 "cells": [
  {
   "cell_type": "code",
   "execution_count": 21,
   "metadata": {
    "collapsed": true
   },
   "outputs": [],
   "source": [
    "import numpy as np\n",
    "import pylab\n",
    "from pylab import *\n",
    "from numpy import genfromtxt"
   ]
  },
  {
   "cell_type": "code",
   "execution_count": 22,
   "metadata": {
    "collapsed": true
   },
   "outputs": [],
   "source": [
    "def remove_outliers(arr):\n",
    "    mean = np.mean(arr)\n",
    "    sd = np.std(arr)\n",
    "    final_list = [x for x in arr if (x > mean - 2 * sd)]\n",
    "    final_list = [x for x in final_list if (x < mean + 2 * sd)]\n",
    "    return final_list"
   ]
  },
  {
   "cell_type": "code",
   "execution_count": 29,
   "metadata": {
    "collapsed": false
   },
   "outputs": [
    {
     "name": "stdout",
     "output_type": "stream",
     "text": [
      "[[ 264.34648323  204.66844177  220.63322616  211.61992741  220.30159283\n",
      "     5.93290602    5.93839269    5.96016911    5.98327605    5.9769666 ]\n",
      " [ 271.5494082   208.12126398  207.85586071  246.55726719  227.36352181\n",
      "     5.97029782    6.01733628    5.99563104    5.99737525    5.95961576]\n",
      " [ 255.85449553  215.22670722  220.08446097  243.05991912  239.21771264\n",
      "     6.08266415    6.04911433    6.06693964    5.92863926    6.09994293]\n",
      " [ 248.88321924  203.30924225  222.06010365  244.81342626  254.54550862\n",
      "     5.93070694    5.97514345    6.01479278    5.94210632    5.92388152]\n",
      " [ 274.0475843   202.71843624  203.73952293  233.72092676  240.11990285\n",
      "     5.97185781    6.0253875     5.96634182    6.01215596    5.98811197]\n",
      " [ 248.06055164  209.90938663  228.64690423  215.06479621  208.2905395\n",
      "     5.9622697     6.01760469    6.05859851    6.02649006    5.93107603]\n",
      " [ 260.71077704  195.4346571   214.97863317  223.71121812  255.28439546\n",
      "     5.98228496    5.98209834    6.03995702    5.97144947    5.93840896]]\n"
     ]
    }
   ],
   "source": [
    "f1 = 'spark-random-forr-1495893290.4898455.csv'\n",
    "f2 = 'spark-random-forr-1495871041.8540606.csv'\n",
    "f3 = 'spark-random-forr-1496183342.8873482.csv'\n",
    "#d_1 = genfromtxt(f1, delimiter=',')\n",
    "#d_2 = genfromtxt(f2, delimiter=',')\n",
    "#data = np.vstack((d_2, d_1))\n",
    "data = genfromtxt(f3, delimiter=',')\n",
    "print(data)"
   ]
  },
  {
   "cell_type": "code",
   "execution_count": 28,
   "metadata": {
    "collapsed": false
   },
   "outputs": [
    {
     "name": "stdout",
     "output_type": "stream",
     "text": [
      "training times\n",
      "------------------------\n",
      "Full:  260.493217025 9.49989610705\n",
      "10%:  205.626876456 5.7983864574\n",
      "20%:  216.856958832 7.99435061926\n",
      "Synthetic - 10%:  231.221068723 13.4588609907\n",
      "Synthetic - 20%:  235.017596245 16.1477030504\n"
     ]
    }
   ],
   "source": [
    "print('training times')\n",
    "print('------------------------')\n",
    "print('Full: ', np.mean(data[:,0]), np.std(data[:,0]))\n",
    "print('10%: ', np.mean(data[:,1]), np.std(data[:,1]))\n",
    "print('20%: ', np.mean(data[:,2]), np.std(data[:,2]))\n",
    "print('Synthetic - 10%: ', np.mean(data[:,3]), np.std(data[:,3]))\n",
    "print('Synthetic - 20%: ', np.mean(data[:,4]), np.std(data[:,4]))"
   ]
  },
  {
   "cell_type": "code",
   "execution_count": 25,
   "metadata": {
    "collapsed": false
   },
   "outputs": [
    {
     "name": "stdout",
     "output_type": "stream",
     "text": [
      "RMSE\n",
      "------------------------\n",
      "Full:  5.95838720869 0.0196849528429\n",
      "10%:  6.00072532421 0.0346354700983\n",
      "20%:  6.01463284718 0.0395866342821\n",
      "Synthetic - 10%:  5.98021319593 0.033068358357\n",
      "Synthetic - 20%:  5.95301013945 0.0237783520714\n"
     ]
    }
   ],
   "source": [
    "print('RMSE')\n",
    "print('------------------------')\n",
    "print('Full: ', np.mean(remove_outliers(data[:,5])), np.std(remove_outliers(data[:,5])))\n",
    "print('10%: ', np.mean(remove_outliers(data[:,6])), np.std(remove_outliers(data[:,6])))\n",
    "print('20%: ', np.mean(remove_outliers(data[:,7])), np.std(remove_outliers(data[:,7])))\n",
    "print('Synthetic - 10%: ', np.mean(remove_outliers(data[:,8])), np.std(remove_outliers(data[:,8])))\n",
    "print('Synthetic - 20%: ', np.mean(remove_outliers(data[:,9])), np.std(remove_outliers(data[:,9])))"
   ]
  },
  {
   "cell_type": "code",
   "execution_count": 26,
   "metadata": {
    "collapsed": false
   },
   "outputs": [
    {
     "name": "stdout",
     "output_type": "stream",
     "text": [
      "LOAD TIMES\n",
      "------------------------------\n",
      "Full:  28.0349593163 2.2487807972\n",
      "10%:  5.13691381613 0.909115063171\n",
      "20%:  6.10156373183 1.60746347316\n",
      "Synthetic - 10%:  5.09660927455 0.911504515496\n",
      "Synthetic - 20%:  6.20786650976 0.637436982632\n"
     ]
    }
   ],
   "source": [
    "load_times = np.load('load_times_2.npy')\n",
    "print('LOAD TIMES')\n",
    "print('------------------------------')\n",
    "print('Full: ', np.mean(remove_outliers(load_times[:,0])), np.std(remove_outliers(load_times[:,0])))\n",
    "print('10%: ', np.mean(remove_outliers(load_times[:,1])), np.std(remove_outliers(load_times[:,1])))\n",
    "print('20%: ', np.mean(remove_outliers(load_times[:,2])), np.std(remove_outliers(load_times[:,2])))\n",
    "print('Synthetic - 10%: ', np.mean(remove_outliers(load_times[:,3])), np.std(remove_outliers(load_times[:,3])))\n",
    "print('Synthetic - 20%: ', np.mean(remove_outliers(load_times[:,4])), np.std(remove_outliers(load_times[:,4])))"
   ]
  },
  {
   "cell_type": "code",
   "execution_count": null,
   "metadata": {
    "collapsed": true
   },
   "outputs": [],
   "source": []
  }
 ],
 "metadata": {
  "anaconda-cloud": {},
  "kernelspec": {
   "display_name": "Python [conda root]",
   "language": "python",
   "name": "conda-root-py"
  },
  "language_info": {
   "codemirror_mode": {
    "name": "ipython",
    "version": 3
   },
   "file_extension": ".py",
   "mimetype": "text/x-python",
   "name": "python",
   "nbconvert_exporter": "python",
   "pygments_lexer": "ipython3",
   "version": "3.5.2"
  }
 },
 "nbformat": 4,
 "nbformat_minor": 1
}
