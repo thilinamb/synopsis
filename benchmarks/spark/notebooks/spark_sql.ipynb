{
 "cells": [
  {
   "cell_type": "code",
   "execution_count": 1,
   "metadata": {
    "collapsed": false
   },
   "outputs": [
    {
     "name": "stdout",
     "output_type": "stream",
     "text": [
      "Populating the interactive namespace from numpy and matplotlib\n"
     ]
    }
   ],
   "source": [
    "%pylab inline"
   ]
  },
  {
   "cell_type": "code",
   "execution_count": 2,
   "metadata": {
    "collapsed": false
   },
   "outputs": [
    {
     "data": {
      "text/plain": [
       "'2.0.1'"
      ]
     },
     "execution_count": 2,
     "metadata": {},
     "output_type": "execute_result"
    }
   ],
   "source": [
    "sc.version"
   ]
  },
  {
   "cell_type": "code",
   "execution_count": 11,
   "metadata": {
    "collapsed": true
   },
   "outputs": [],
   "source": [
    "from pyspark.sql import Row, SQLContext, HiveContext\n",
    "from pyspark.sql import SparkSession\n",
    "import time\n",
    "import threading\n",
    "import numpy as np\n",
    "import random"
   ]
  },
  {
   "cell_type": "code",
   "execution_count": 4,
   "metadata": {
    "collapsed": false
   },
   "outputs": [],
   "source": [
    "input_path = 'hdfs://lattice-100.cs.colostate.edu:46780/test/southeast-0*-*.txt'\n",
    "spark = SparkSession.builder.appName(\"Python Spark SQL basic example\").getOrCreate()"
   ]
  },
  {
   "cell_type": "code",
   "execution_count": 5,
   "metadata": {
    "collapsed": false
   },
   "outputs": [],
   "source": [
    "df = spark.read.json(input_path)"
   ]
  },
  {
   "cell_type": "code",
   "execution_count": 6,
   "metadata": {
    "collapsed": false
   },
   "outputs": [
    {
     "name": "stdout",
     "output_type": "stream",
     "text": [
      "root\n",
      " |-- _corrupt_record: string (nullable = true)\n",
      " |-- location: string (nullable = true)\n",
      " |-- precipitable_water_entire_atmosphere: double (nullable = true)\n",
      " |-- relative_humidity_zerodegc_isotherm: double (nullable = true)\n",
      " |-- temperature_surface: double (nullable = true)\n",
      " |-- visibility_surface: double (nullable = true)\n",
      "\n"
     ]
    }
   ],
   "source": [
    "df.printSchema()\n",
    "df.createOrReplaceTempView('noaa_data')"
   ]
  },
  {
   "cell_type": "code",
   "execution_count": 7,
   "metadata": {
    "collapsed": false
   },
   "outputs": [
    {
     "name": "stdout",
     "output_type": "stream",
     "text": [
      "0\n",
      "24.646201848983765\n"
     ]
    }
   ],
   "source": [
    "sql_stmt = 'SELECT * FROM noaa WHERE location LIKE \"dn%\" AND precipitable_water_entire_atmosphere > 8 AND precipitable_water_entire_atmosphere < 12'\n",
    "sql_stmt2 = 'SELECT * FROM noaa_data WHERE temperature_surface > -38.80721 AND temperature_surface < -34.042206 AND relative_humidity_zerodegc_isotherm > 9.162598 AND relative_humidity_zerodegc_isotherm < 19.162598 AND precipitable_water_entire_atmosphere > 28.119974 AND precipitable_water_entire_atmosphere < 28.859655 AND location LIKE \"dn%\" AND visibility_surface > 7320.479 AND visibility_surface < 7580.649'\n",
    "t1 = time.time()\n",
    "spark.sql(sql_stmt2).count()\n",
    "t2 = time.time()\n",
    "print(t2-t1)"
   ]
  },
  {
   "cell_type": "code",
   "execution_count": 25,
   "metadata": {
    "collapsed": false
   },
   "outputs": [],
   "source": [
    "queries = [line.rstrip('\\n') for line in open('sql-queries.txt')]\n",
    "random.seed(123)\n",
    "def rand_query():\n",
    "    q = queries[random.randint(0, len(queries) - 1)]\n",
    "    #print('Query: ', q)\n",
    "    return q"
   ]
  },
  {
   "cell_type": "code",
   "execution_count": 30,
   "metadata": {
    "collapsed": false
   },
   "outputs": [],
   "source": [
    "def query(latencies):\n",
    "  time.sleep(5)\n",
    "  for j in range(5):\n",
    "    t1 = time.time()\n",
    "    print(spark.sql(rand_query()).count())\n",
    "    t2 = time.time()\n",
    "    latencies.append(t2 - t1)\n",
    "    \n",
    "#print(threading.currentThread().getName() ,': ',latencies)\n",
    "#query([])"
   ]
  },
  {
   "cell_type": "code",
   "execution_count": 31,
   "metadata": {
    "collapsed": false
   },
   "outputs": [
    {
     "name": "stdout",
     "output_type": "stream",
     "text": [
      "0\n",
      "0\n",
      "0\n",
      "0\n",
      "0\n",
      "Thread-Count:  1  Mean:  20.5772511959 , Std. Dev:  1.76199753623 95th Percentile:  22.3994861126\n",
      "0\n",
      "0\n",
      "0\n",
      "0\n",
      "0\n",
      "Thread-Count:  1  Mean:  20.0877991438 , Std. Dev:  2.37266512613 95th Percentile:  23.4629499674\n"
     ]
    }
   ],
   "source": [
    "threads = []\n",
    "latencies = []\n",
    "thread_count = (1,1)\n",
    "for t_c in thread_count:\n",
    "    for i in range(t_c):\n",
    "        t = threading.Thread(target=query, args=(latencies,))\n",
    "        threads.append(t)\n",
    "        t.start()\n",
    "        if i == t_c - 1:\n",
    "            t.join()\n",
    "    lat_data = np.array(latencies)\n",
    "    with open('/tmp/spark-sql-' + str(t_c) + '.csv', 'w') as file_handler:\n",
    "        for item in latencies:\n",
    "            file_handler.write(\"{}\\n\".format(item))\n",
    "    print('Thread-Count: ', t_c,' Mean: ', np.mean(lat_data), ', Std. Dev: ', np.std(lat_data), '95th Percentile: ',np.percentile(lat_data, 95))"
   ]
  },
  {
   "cell_type": "code",
   "execution_count": null,
   "metadata": {
    "collapsed": true
   },
   "outputs": [],
   "source": []
  }
 ],
 "metadata": {
  "anaconda-cloud": {},
  "kernelspec": {
   "display_name": "Python [conda root]",
   "language": "python",
   "name": "conda-root-py"
  },
  "language_info": {
   "codemirror_mode": {
    "name": "ipython",
    "version": 3
   },
   "file_extension": ".py",
   "mimetype": "text/x-python",
   "name": "python",
   "nbconvert_exporter": "python",
   "pygments_lexer": "ipython3",
   "version": "3.5.2"
  }
 },
 "nbformat": 4,
 "nbformat_minor": 1
}
